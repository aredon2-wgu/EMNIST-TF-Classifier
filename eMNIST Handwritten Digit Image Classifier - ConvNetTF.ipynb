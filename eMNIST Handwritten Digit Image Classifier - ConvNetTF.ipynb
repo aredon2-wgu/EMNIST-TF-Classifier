{
 "cells": [
  {
   "cell_type": "markdown",
   "metadata": {},
   "source": [
    "# Python packages to install"
   ]
  },
  {
   "cell_type": "code",
   "execution_count": 1,
   "metadata": {
    "scrolled": true
   },
   "outputs": [],
   "source": [
    "# pip install tensorflow\n",
    "# pip install matplotlib\n",
    "# pip install numpy\n",
    "# pip install pandas"
   ]
  },
  {
   "cell_type": "code",
   "execution_count": 2,
   "metadata": {
    "scrolled": true
   },
   "outputs": [],
   "source": [
    "# Load the TensorBoard notebook extension.\n",
    "%load_ext tensorboard"
   ]
  },
  {
   "cell_type": "code",
   "execution_count": 3,
   "metadata": {
    "scrolled": true
   },
   "outputs": [],
   "source": [
    "from datetime import datetime\n",
    "import tensorflow as tf\n",
    "import cv2\n",
    "import matplotlib.pyplot as plt\n",
    "import pandas as pd\n",
    "import numpy as np\n",
    "from tensorflow.keras.preprocessing.image import ImageDataGenerator\n",
    "from tensorflow.keras.models import Sequential\n",
    "from tensorflow.keras.layers import Dense, Dropout, Activation, Flatten, Conv2D, MaxPooling2D, BatchNormalization\n",
    "from tensorflow.keras.utils import to_categorical, normalize\n",
    "from tensorflow.keras import regularizers\n",
    "from sklearn.model_selection import train_test_split"
   ]
  },
  {
   "cell_type": "markdown",
   "metadata": {},
   "source": [
    "# Map output values to Ascii characters"
   ]
  },
  {
   "cell_type": "code",
   "execution_count": 4,
   "metadata": {
    "scrolled": true
   },
   "outputs": [],
   "source": [
    "#Character Class mapping for CNN output indexing\n",
    "\n",
    "#There should be 62 outputs corresponding to chars within: [0-9][a-z][A-Z]\n",
    "#letters like o,u,p look the same uppercase or lowercase hence the reduction\n",
    "\n",
    "char_mapping = {\n",
    "0 : \"0\",\n",
    "1 : \"1\",\n",
    "2 : \"2\",\n",
    "3 : \"3\",\n",
    "4 : \"4\",\n",
    "5 : \"5\",\n",
    "6 : \"6\",\n",
    "7 : \"7\",\n",
    "8 : \"8\",\n",
    "9 : \"9\",\n",
    "10 : \"A\",\n",
    "11 : \"B\",\n",
    "12 : \"C\",\n",
    "13 : \"D\",\n",
    "14 : \"E\",\n",
    "15 : \"F\",\n",
    "16 : \"G\",\n",
    "17 : \"H\",\n",
    "18 : \"I\",\n",
    "19 : \"J\",\n",
    "20 : \"K\",\n",
    "21 : \"L\",\n",
    "22 : \"M\",\n",
    "23 : \"N\",\n",
    "24 : \"O\",\n",
    "25 : \"P\",\n",
    "26 : \"Q\",\n",
    "27 : \"R\",\n",
    "28 : \"S\",\n",
    "29 : \"T\",\n",
    "30 : \"U\",\n",
    "31 : \"V\",\n",
    "32 : \"W\",\n",
    "33 : \"X\",\n",
    "34 : \"Y\",\n",
    "35 : \"Z\",\n",
    "36 : \"a\",\n",
    "37 : \"b\",\n",
    "38 : \"d\",\n",
    "39 : \"e\",\n",
    "40 : \"f\",\n",
    "41 : \"g\",\n",
    "42 : \"h\",\n",
    "43 : \"n\",\n",
    "44 : \"q\",\n",
    "45 : \"r\",\n",
    "46 : \"t\"\n",
    "}\n",
    "\n",
    "# char_mapping = {\n",
    "# 0 : \"0\",\n",
    "# 1 : \"1\",\n",
    "# 2 : \"2\",\n",
    "# 3 : \"3\",\n",
    "# 4 : \"4\",\n",
    "# 5 : \"5\",\n",
    "# 6 : \"6\",\n",
    "# 7 : \"7\",\n",
    "# 8 : \"8\",\n",
    "# 9 : \"9\",\n",
    "# 10 : \"A\",\n",
    "# 11 : \"B\",\n",
    "# 12 : \"C\",\n",
    "# 13 : \"D\",\n",
    "# 14 : \"E\",\n",
    "# 15 : \"F\",\n",
    "# 16 : \"G\",\n",
    "# 17 : \"H\",\n",
    "# 18 : \"I\",\n",
    "# 19 : \"J\",\n",
    "# 20 : \"K\",\n",
    "# 21 : \"L\",\n",
    "# 22 : \"M\",\n",
    "# 23 : \"N\",\n",
    "# 24 : \"O\",\n",
    "# 25 : \"P\",\n",
    "# 26 : \"Q\",\n",
    "# 27 : \"R\",\n",
    "# 28 : \"S\",\n",
    "# 29 : \"T\",\n",
    "# 30 : \"U\",\n",
    "# 31 : \"V\",\n",
    "# 32 : \"W\",\n",
    "# 33 : \"X\",\n",
    "# 34 : \"Y\",\n",
    "# 35 : \"Z\",\n",
    "# 36 : \"a\",\n",
    "# 37 : \"b\",\n",
    "# 38 : \"c\",\n",
    "# 39 : \"d\",\n",
    "# 40 : \"e\",\n",
    "# 41 : \"f\",\n",
    "# 42 : \"g\",\n",
    "# 43 : \"h\",\n",
    "# 44 : \"i\",\n",
    "# 45 : \"j\",\n",
    "# 46 : \"k\",\n",
    "# 47 : \"l\",\n",
    "# 48 : \"m\",\n",
    "# 49 : \"n\",\n",
    "# 50 : \"o\",\n",
    "# 51 : \"p\",\n",
    "# 52 : \"q\",\n",
    "# 53 : \"r\",\n",
    "# 54 : \"s\",\n",
    "# 55 : \"t\",\n",
    "# 56 : \"u\",\n",
    "# 57 : \"v\",\n",
    "# 58 : \"w\",\n",
    "# 59 : \"x\",\n",
    "# 60 : \"y\",\n",
    "# 61 : \"z\"\n",
    "# }"
   ]
  },
  {
   "cell_type": "markdown",
   "metadata": {},
   "source": [
    "# Load eMNIST Dataset in"
   ]
  },
  {
   "cell_type": "code",
   "execution_count": 5,
   "metadata": {
    "scrolled": true
   },
   "outputs": [
    {
     "name": "stdout",
     "output_type": "stream",
     "text": [
      "done\n"
     ]
    }
   ],
   "source": [
    "#Loading eMNIST Data Set\n",
    "emnist_train_data_path = './data/emnist-balanced-train.csv'\n",
    "emnist_test_data_path = './data/emnist-balanced-test.csv'\n",
    "\n",
    "#Read csv to pandas dataframe\n",
    "train_data_df = pd.read_csv(emnist_train_data_path, header=None)\n",
    "test_data_df = pd.read_csv(emnist_test_data_path, header=None)\n",
    "\n",
    "train_data = np.array(train_data_df, dtype='float32')\n",
    "test_data = np.array(test_data_df, dtype='float32')\n",
    "\n",
    "\n",
    "print(\"done\")"
   ]
  },
  {
   "cell_type": "markdown",
   "metadata": {},
   "source": [
    "# What the Raw EMNIST Dataset looks like"
   ]
  },
  {
   "cell_type": "code",
   "execution_count": 6,
   "metadata": {
    "scrolled": false
   },
   "outputs": [
    {
     "data": {
      "text/html": [
       "<div>\n",
       "<style scoped>\n",
       "    .dataframe tbody tr th:only-of-type {\n",
       "        vertical-align: middle;\n",
       "    }\n",
       "\n",
       "    .dataframe tbody tr th {\n",
       "        vertical-align: top;\n",
       "    }\n",
       "\n",
       "    .dataframe thead th {\n",
       "        text-align: right;\n",
       "    }\n",
       "</style>\n",
       "<table border=\"1\" class=\"dataframe\">\n",
       "  <thead>\n",
       "    <tr style=\"text-align: right;\">\n",
       "      <th></th>\n",
       "      <th>0</th>\n",
       "      <th>1</th>\n",
       "      <th>2</th>\n",
       "      <th>3</th>\n",
       "      <th>4</th>\n",
       "      <th>5</th>\n",
       "      <th>6</th>\n",
       "      <th>7</th>\n",
       "      <th>8</th>\n",
       "      <th>9</th>\n",
       "      <th>...</th>\n",
       "      <th>775</th>\n",
       "      <th>776</th>\n",
       "      <th>777</th>\n",
       "      <th>778</th>\n",
       "      <th>779</th>\n",
       "      <th>780</th>\n",
       "      <th>781</th>\n",
       "      <th>782</th>\n",
       "      <th>783</th>\n",
       "      <th>784</th>\n",
       "    </tr>\n",
       "  </thead>\n",
       "  <tbody>\n",
       "    <tr>\n",
       "      <th>0</th>\n",
       "      <td>45</td>\n",
       "      <td>0</td>\n",
       "      <td>0</td>\n",
       "      <td>0</td>\n",
       "      <td>0</td>\n",
       "      <td>0</td>\n",
       "      <td>0</td>\n",
       "      <td>0</td>\n",
       "      <td>0</td>\n",
       "      <td>0</td>\n",
       "      <td>...</td>\n",
       "      <td>0</td>\n",
       "      <td>0</td>\n",
       "      <td>0</td>\n",
       "      <td>0</td>\n",
       "      <td>0</td>\n",
       "      <td>0</td>\n",
       "      <td>0</td>\n",
       "      <td>0</td>\n",
       "      <td>0</td>\n",
       "      <td>0</td>\n",
       "    </tr>\n",
       "    <tr>\n",
       "      <th>1</th>\n",
       "      <td>36</td>\n",
       "      <td>0</td>\n",
       "      <td>0</td>\n",
       "      <td>0</td>\n",
       "      <td>0</td>\n",
       "      <td>0</td>\n",
       "      <td>0</td>\n",
       "      <td>0</td>\n",
       "      <td>0</td>\n",
       "      <td>0</td>\n",
       "      <td>...</td>\n",
       "      <td>0</td>\n",
       "      <td>0</td>\n",
       "      <td>0</td>\n",
       "      <td>0</td>\n",
       "      <td>0</td>\n",
       "      <td>0</td>\n",
       "      <td>0</td>\n",
       "      <td>0</td>\n",
       "      <td>0</td>\n",
       "      <td>0</td>\n",
       "    </tr>\n",
       "    <tr>\n",
       "      <th>2</th>\n",
       "      <td>43</td>\n",
       "      <td>0</td>\n",
       "      <td>0</td>\n",
       "      <td>0</td>\n",
       "      <td>0</td>\n",
       "      <td>0</td>\n",
       "      <td>0</td>\n",
       "      <td>0</td>\n",
       "      <td>0</td>\n",
       "      <td>0</td>\n",
       "      <td>...</td>\n",
       "      <td>0</td>\n",
       "      <td>0</td>\n",
       "      <td>0</td>\n",
       "      <td>0</td>\n",
       "      <td>0</td>\n",
       "      <td>0</td>\n",
       "      <td>0</td>\n",
       "      <td>0</td>\n",
       "      <td>0</td>\n",
       "      <td>0</td>\n",
       "    </tr>\n",
       "    <tr>\n",
       "      <th>3</th>\n",
       "      <td>15</td>\n",
       "      <td>0</td>\n",
       "      <td>0</td>\n",
       "      <td>0</td>\n",
       "      <td>0</td>\n",
       "      <td>0</td>\n",
       "      <td>0</td>\n",
       "      <td>0</td>\n",
       "      <td>0</td>\n",
       "      <td>0</td>\n",
       "      <td>...</td>\n",
       "      <td>0</td>\n",
       "      <td>0</td>\n",
       "      <td>0</td>\n",
       "      <td>0</td>\n",
       "      <td>0</td>\n",
       "      <td>0</td>\n",
       "      <td>0</td>\n",
       "      <td>0</td>\n",
       "      <td>0</td>\n",
       "      <td>0</td>\n",
       "    </tr>\n",
       "    <tr>\n",
       "      <th>4</th>\n",
       "      <td>4</td>\n",
       "      <td>0</td>\n",
       "      <td>0</td>\n",
       "      <td>0</td>\n",
       "      <td>0</td>\n",
       "      <td>0</td>\n",
       "      <td>0</td>\n",
       "      <td>0</td>\n",
       "      <td>0</td>\n",
       "      <td>0</td>\n",
       "      <td>...</td>\n",
       "      <td>0</td>\n",
       "      <td>0</td>\n",
       "      <td>0</td>\n",
       "      <td>0</td>\n",
       "      <td>0</td>\n",
       "      <td>0</td>\n",
       "      <td>0</td>\n",
       "      <td>0</td>\n",
       "      <td>0</td>\n",
       "      <td>0</td>\n",
       "    </tr>\n",
       "  </tbody>\n",
       "</table>\n",
       "<p>5 rows × 785 columns</p>\n",
       "</div>"
      ],
      "text/plain": [
       "   0    1    2    3    4    5    6    7    8    9    ...  775  776  777  778  \\\n",
       "0   45    0    0    0    0    0    0    0    0    0  ...    0    0    0    0   \n",
       "1   36    0    0    0    0    0    0    0    0    0  ...    0    0    0    0   \n",
       "2   43    0    0    0    0    0    0    0    0    0  ...    0    0    0    0   \n",
       "3   15    0    0    0    0    0    0    0    0    0  ...    0    0    0    0   \n",
       "4    4    0    0    0    0    0    0    0    0    0  ...    0    0    0    0   \n",
       "\n",
       "   779  780  781  782  783  784  \n",
       "0    0    0    0    0    0    0  \n",
       "1    0    0    0    0    0    0  \n",
       "2    0    0    0    0    0    0  \n",
       "3    0    0    0    0    0    0  \n",
       "4    0    0    0    0    0    0  \n",
       "\n",
       "[5 rows x 785 columns]"
      ]
     },
     "execution_count": 6,
     "metadata": {},
     "output_type": "execute_result"
    }
   ],
   "source": [
    "#The first column is the image label, the first column to the 785 column \n",
    "#is the pixel data of the image itself\n",
    "\n",
    "train_data_df.head()"
   ]
  },
  {
   "cell_type": "markdown",
   "metadata": {},
   "source": [
    "# Prepare Training Data"
   ]
  },
  {
   "cell_type": "code",
   "execution_count": 7,
   "metadata": {
    "scrolled": true
   },
   "outputs": [
    {
     "name": "stdout",
     "output_type": "stream",
     "text": [
      "Done Preparing Training Data\n"
     ]
    }
   ],
   "source": [
    "#Separate the image data from the labels into xs and ys respectively\n",
    "# and normalize the data from (0 to 255) to (0 to 1)\n",
    "xs_train = normalize(train_data[:, 1:], axis=1)\n",
    "ys_train = train_data[:, 0]\n",
    "\n",
    "xs_test = normalize(test_data[:, 1:], axis=1)\n",
    "ys_test = train_data[:, 0]\n",
    "\n",
    "#split our training data into training and validation data\n",
    "xs_train, xs_validate, ys_train, ys_validate = train_test_split(\n",
    "    xs_train, ys_train, test_size=0.2, random_state=12345,\n",
    ")\n",
    "\n",
    "\n",
    "#convert Ys label data to categorical ascii characters\n",
    "ys_train_labels = to_categorical( ys_train, num_classes=len(char_mapping) )\n",
    "ys_validation_labels = to_categorical( ys_validate, num_classes=len(char_mapping) )\n",
    "ys_test_labels = to_categorical( ys_test, num_classes=len(char_mapping) )\n",
    "\n",
    "#RESHAPE DATA\n",
    "#reshape xs to (28,28,1) 28px x 28px with an extra dimension for convolution filter layer output\n",
    "img_shape = (28, 28, 1)\n",
    "\n",
    "x_train = xs_train.reshape(-1,*img_shape)\n",
    "x_validate = xs_validate.reshape(-1, *img_shape)\n",
    "x_test =xs_test.reshape(-1 , *img_shape)\n",
    "\n",
    "\n",
    "#transpose data\n",
    "x_train = np.transpose( \n",
    "        x_train, \n",
    "        axes=[0, 2, 1, 3]\n",
    "        )\n",
    "x_validate = np.transpose(\n",
    "        x_validate,\n",
    "        axes=[0, 2, 1, 3]\n",
    "        )\n",
    "x_test = np.transpose(\n",
    "        x_test,\n",
    "        axes=[0, 2, 1, 3]\n",
    "        )\n",
    "\n",
    "\n",
    "print(\"Done Preparing Training Data\")"
   ]
  },
  {
   "cell_type": "code",
   "execution_count": 8,
   "metadata": {
    "scrolled": false
   },
   "outputs": [
    {
     "name": "stdout",
     "output_type": "stream",
     "text": [
      "Training Dataframe:  (112800, 785)\n",
      "X_train:  (90240, 784)\n",
      "X_validate:  (22560, 784)\n"
     ]
    }
   ],
   "source": [
    "# Quick look at the training data shape\n",
    "print(\"Training Dataframe: \", train_data_df.shape)\n",
    "print(\"X_train: \", xs_train.shape)\n",
    "print(\"X_validate: \", xs_validate.shape)"
   ]
  },
  {
   "cell_type": "markdown",
   "metadata": {},
   "source": [
    "# How the cleaned training data looks"
   ]
  },
  {
   "cell_type": "code",
   "execution_count": 9,
   "metadata": {
    "scrolled": false
   },
   "outputs": [
    {
     "name": "stdout",
     "output_type": "stream",
     "text": [
      "How the Cleaned data looks:\n",
      "Classification:  0\n"
     ]
    },
    {
     "data": {
      "image/png": "[encoded data removed]",
      "text/plain": [
       "<Figure size 432x288 with 1 Axes>"
      ]
     },
     "metadata": {
      "needs_background": "light"
     },
     "output_type": "display_data"
    },
    {
     "name": "stdout",
     "output_type": "stream",
     "text": [
      "Classification:  L\n"
     ]
    },
    {
     "data": {
      "image/png": "[encoded data removed]",
      "text/plain": [
       "<Figure size 432x288 with 1 Axes>"
      ]
     },
     "metadata": {
      "needs_background": "light"
     },
     "output_type": "display_data"
    },
    {
     "name": "stdout",
     "output_type": "stream",
     "text": [
      "Classification:  J\n"
     ]
    },
    {
     "data": {
      "image/png": "[encoded data removed]",
      "text/plain": [
       "<Figure size 432x288 with 1 Axes>"
      ]
     },
     "metadata": {
      "needs_background": "light"
     },
     "output_type": "display_data"
    },
    {
     "name": "stdout",
     "output_type": "stream",
     "text": [
      "Classification:  L\n"
     ]
    },
    {
     "data": {
      "image/png": "[encoded data removed]",
      "text/plain": [
       "<Figure size 432x288 with 1 Axes>"
      ]
     },
     "metadata": {
      "needs_background": "light"
     },
     "output_type": "display_data"
    },
    {
     "name": "stdout",
     "output_type": "stream",
     "text": [
      "Classification:  q\n"
     ]
    },
    {
     "data": {
      "image/png": "[encoded data removed]",
      "text/plain": [
       "<Figure size 432x288 with 1 Axes>"
      ]
     },
     "metadata": {
      "needs_background": "light"
     },
     "output_type": "display_data"
    }
   ],
   "source": [
    "#transpose x img data because, the images are flipped 90 degrees\n",
    "#see for yourself\n",
    "\n",
    "print(\"How the Cleaned data looks:\")\n",
    "for trainDataIdx in range(0, 5):\n",
    "    print( \"Classification: \",char_mapping[ys_train[trainDataIdx]] )\n",
    "    plt.title(\"train image {}\".format(trainDataIdx))\n",
    "    plt.imshow(x_train[trainDataIdx, :], cmap='Greys_r')\n",
    "    plt.show()"
   ]
  },
  {
   "cell_type": "markdown",
   "metadata": {},
   "source": [
    "# Creating the Neural Network Model"
   ]
  },
  {
   "cell_type": "code",
   "execution_count": 10,
   "metadata": {},
   "outputs": [],
   "source": [
    "model_v7_6 = Sequential()\n",
    "model_v7_6.add(Conv2D(32, kernel_size = 3, activation='relu', input_shape = x_train.shape[1:]))\n",
    "model_v7_6.add(BatchNormalization())\n",
    "model_v7_6.add(Conv2D(32, kernel_size = 3, activation='relu',kernel_regularizer=regularizers.l2(0.0001) ))\n",
    "model_v7_6.add(BatchNormalization())\n",
    "model_v7_6.add(Conv2D(32, kernel_size = 5,padding='same', activation='relu', kernel_regularizer=regularizers.l2(0.0001) )) #kernel_regularizer=regularizers.l2(0.01)\n",
    "model_v7_6.add(BatchNormalization())\n",
    "model_v7_6.add(MaxPooling2D(pool_size=(2,2), strides=1 ))\n",
    "model_v7_6.add(MaxPooling2D(pool_size=(2,2), strides=2 ))\n",
    "model_v7_6.add(Dropout(0.4))\n",
    "\n",
    "model_v7_6.add(Conv2D(64, kernel_size = 3, activation='relu' ))\n",
    "model_v7_6.add(BatchNormalization())\n",
    "model_v7_6.add(Conv2D(64, kernel_size = 3, activation='relu', kernel_regularizer=regularizers.l2(0.0001) ))\n",
    "model_v7_6.add(BatchNormalization())\n",
    "model_v7_6.add(Conv2D(64, kernel_size = 5, padding='same', activation='relu', kernel_regularizer=regularizers.l2(0.0001) )) #kernel_regularizer=regularizers.l2(0.01)\n",
    "model_v7_6.add(BatchNormalization())\n",
    "model_v7_6.add(Dropout(0.5)) #add back and at 0.4\n",
    "\n",
    "model_v7_6.add(Conv2D(128, kernel_size = 4, activation='relu', kernel_regularizer=regularizers.l2(0.0001)))\n",
    "model_v7_6.add(BatchNormalization())\n",
    "model_v7_6.add(Dropout(0.5))\n",
    "model_v7_6.add(Flatten())\n",
    "model_v7_6.add(Dense(units=256, activation='relu')) #changed to 256\n",
    "model_v7_6.add(Dropout(0.2)) #reduce to 0.2 from 0.4\n",
    "model_v7_6.add(Dense(units=len(char_mapping), activation='softmax'))"
   ]
  },
  {
   "cell_type": "markdown",
   "metadata": {},
   "source": [
    "# Compile the Model "
   ]
  },
  {
   "cell_type": "code",
   "execution_count": 11,
   "metadata": {
    "scrolled": true
   },
   "outputs": [],
   "source": [
    "#sparse_categorical_crossentropy (scce) produces a category index of the most likely matching category.\n",
    "\n",
    "opt = tf.keras.optimizers.Adam(learning_rate=0.001)\n",
    "model_v7_6.compile( loss=\"sparse_categorical_crossentropy\", optimizer=opt, metrics=[\"accuracy\"] )"
   ]
  },
  {
   "cell_type": "markdown",
   "metadata": {},
   "source": [
    "# Model Summary"
   ]
  },
  {
   "cell_type": "code",
   "execution_count": 12,
   "metadata": {
    "scrolled": false
   },
   "outputs": [
    {
     "name": "stdout",
     "output_type": "stream",
     "text": [
      "Model: \"sequential\"\n",
      "_________________________________________________________________\n",
      "Layer (type)                 Output Shape              Param #   \n",
      "=================================================================\n",
      "conv2d (Conv2D)              (None, 26, 26, 32)        320       \n",
      "_________________________________________________________________\n",
      "batch_normalization (BatchNo (None, 26, 26, 32)        128       \n",
      "_________________________________________________________________\n",
      "conv2d_1 (Conv2D)            (None, 24, 24, 32)        9248      \n",
      "_________________________________________________________________\n",
      "batch_normalization_1 (Batch (None, 24, 24, 32)        128       \n",
      "_________________________________________________________________\n",
      "conv2d_2 (Conv2D)            (None, 24, 24, 32)        25632     \n",
      "_________________________________________________________________\n",
      "batch_normalization_2 (Batch (None, 24, 24, 32)        128       \n",
      "_________________________________________________________________\n",
      "max_pooling2d (MaxPooling2D) (None, 23, 23, 32)        0         \n",
      "_________________________________________________________________\n",
      "max_pooling2d_1 (MaxPooling2 (None, 11, 11, 32)        0         \n",
      "_________________________________________________________________\n",
      "dropout (Dropout)            (None, 11, 11, 32)        0         \n",
      "_________________________________________________________________\n",
      "conv2d_3 (Conv2D)            (None, 9, 9, 64)          18496     \n",
      "_________________________________________________________________\n",
      "batch_normalization_3 (Batch (None, 9, 9, 64)          256       \n",
      "_________________________________________________________________\n",
      "conv2d_4 (Conv2D)            (None, 7, 7, 64)          36928     \n",
      "_________________________________________________________________\n",
      "batch_normalization_4 (Batch (None, 7, 7, 64)          256       \n",
      "_________________________________________________________________\n",
      "conv2d_5 (Conv2D)            (None, 7, 7, 64)          102464    \n",
      "_________________________________________________________________\n",
      "batch_normalization_5 (Batch (None, 7, 7, 64)          256       \n",
      "_________________________________________________________________\n",
      "dropout_1 (Dropout)          (None, 7, 7, 64)          0         \n",
      "_________________________________________________________________\n",
      "conv2d_6 (Conv2D)            (None, 4, 4, 128)         131200    \n",
      "_________________________________________________________________\n",
      "batch_normalization_6 (Batch (None, 4, 4, 128)         512       \n",
      "_________________________________________________________________\n",
      "dropout_2 (Dropout)          (None, 4, 4, 128)         0         \n",
      "_________________________________________________________________\n",
      "flatten (Flatten)            (None, 2048)              0         \n",
      "_________________________________________________________________\n",
      "dense (Dense)                (None, 256)               524544    \n",
      "_________________________________________________________________\n",
      "dropout_3 (Dropout)          (None, 256)               0         \n",
      "_________________________________________________________________\n",
      "dense_1 (Dense)              (None, 47)                12079     \n",
      "=================================================================\n",
      "Total params: 862,575\n",
      "Trainable params: 861,743\n",
      "Non-trainable params: 832\n",
      "_________________________________________________________________\n"
     ]
    }
   ],
   "source": [
    "model_v7_6.summary()"
   ]
  },
  {
   "cell_type": "markdown",
   "metadata": {},
   "source": [
    "# Train the Model"
   ]
  },
  {
   "cell_type": "code",
   "execution_count": 16,
   "metadata": {
    "scrolled": true
   },
   "outputs": [],
   "source": [
    "# Setup log directory for TensorBoard\n",
    "logdir = \"logs/model_v7-6-4-2_\" + datetime.now().strftime(\"%Y%m%d-%H%M%S\")\n",
    "tensorboard_callback = tf.keras.callbacks.TensorBoard(log_dir=logdir)"
   ]
  },
  {
   "cell_type": "code",
   "execution_count": 17,
   "metadata": {
    "scrolled": false
   },
   "outputs": [
    {
     "name": "stdout",
     "output_type": "stream",
     "text": [
      "Epoch 1/14\n",
      "1128/1128 [==============================] - 149s 131ms/step - loss: 1.9168 - accuracy: 0.5159 - val_loss: 0.5573 - val_accuracy: 0.8170\n",
      "Epoch 2/14\n",
      "1128/1128 [==============================] - 143s 127ms/step - loss: 0.6234 - accuracy: 0.8000 - val_loss: 0.4768 - val_accuracy: 0.8485\n",
      "Epoch 3/14\n",
      "1128/1128 [==============================] - 144s 128ms/step - loss: 0.5269 - accuracy: 0.8326 - val_loss: 0.4581 - val_accuracy: 0.8562\n",
      "Epoch 4/14\n",
      "1128/1128 [==============================] - 144s 128ms/step - loss: 0.5043 - accuracy: 0.8410 - val_loss: 0.4499 - val_accuracy: 0.8568\n",
      "Epoch 5/14\n",
      "1128/1128 [==============================] - 146s 129ms/step - loss: 0.4826 - accuracy: 0.8495 - val_loss: 0.4443 - val_accuracy: 0.8587\n",
      "Epoch 6/14\n",
      "1128/1128 [==============================] - 147s 131ms/step - loss: 0.4700 - accuracy: 0.8545 - val_loss: 0.4499 - val_accuracy: 0.8664\n",
      "Epoch 7/14\n",
      "1128/1128 [==============================] - 147s 130ms/step - loss: 0.4689 - accuracy: 0.8603 - val_loss: 0.4424 - val_accuracy: 0.8723\n",
      "Epoch 8/14\n",
      "1128/1128 [==============================] - 146s 129ms/step - loss: 0.4434 - accuracy: 0.8691 - val_loss: 0.4456 - val_accuracy: 0.8722\n",
      "Epoch 9/14\n",
      "1128/1128 [==============================] - 144s 127ms/step - loss: 0.4505 - accuracy: 0.8690 - val_loss: 0.4226 - val_accuracy: 0.8816\n",
      "Epoch 10/14\n",
      "1128/1128 [==============================] - 142s 126ms/step - loss: 0.4417 - accuracy: 0.8710 - val_loss: 0.4469 - val_accuracy: 0.8747\n",
      "Epoch 11/14\n",
      "1128/1128 [==============================] - 144s 128ms/step - loss: 0.4347 - accuracy: 0.8740 - val_loss: 0.4219 - val_accuracy: 0.8797\n",
      "Epoch 12/14\n",
      "1128/1128 [==============================] - 145s 129ms/step - loss: 0.4310 - accuracy: 0.8736 - val_loss: 0.4459 - val_accuracy: 0.8742\n",
      "Epoch 13/14\n",
      "1128/1128 [==============================] - 145s 129ms/step - loss: 0.4163 - accuracy: 0.8788 - val_loss: 0.4220 - val_accuracy: 0.8806\n",
      "Epoch 14/14\n",
      "1128/1128 [==============================] - 145s 128ms/step - loss: 0.4166 - accuracy: 0.8795 - val_loss: 0.4105 - val_accuracy: 0.8833\n"
     ]
    }
   ],
   "source": [
    "#Actually train the model\n",
    "history = model_v7_6.fit( x_train, ys_train, epochs=14,batch_size=64, shuffle=True, validation_split=0.2, verbose=1, callbacks=[tensorboard_callback] )\n"
   ]
  },
  {
   "cell_type": "markdown",
   "metadata": {},
   "source": [
    "# Open TensorBoard to examine visualizations"
   ]
  },
  {
   "cell_type": "code",
   "execution_count": 15,
   "metadata": {
    "scrolled": false
   },
   "outputs": [
    {
     "data": {
      "text/plain": [
       "Reusing TensorBoard on port 6006 (pid 13292), started 0:01:10 ago. (Use '!kill 13292' to kill it.)"
      ]
     },
     "metadata": {},
     "output_type": "display_data"
    },
    {
     "data": {
      "text/html": [
       "\n",
       "      <iframe id=\"tensorboard-frame-7f6a4dd19c3a988\" width=\"100%\" height=\"800\" frameborder=\"0\">\n",
       "      </iframe>\n",
       "      <script>\n",
       "        (function() {\n",
       "          const frame = document.getElementById(\"tensorboard-frame-7f6a4dd19c3a988\");\n",
       "          const url = new URL(\"/\", window.location);\n",
       "          const port = 6006;\n",
       "          if (port) {\n",
       "            url.port = port;\n",
       "          }\n",
       "          frame.src = url;\n",
       "        })();\n",
       "      </script>\n",
       "    "
      ],
      "text/plain": [
       "<IPython.core.display.HTML object>"
      ]
     },
     "metadata": {},
     "output_type": "display_data"
    }
   ],
   "source": [
    "#Open TensorBoard to examine loss\n",
    "%tensorboard --logdir logs"
   ]
  },
  {
   "cell_type": "markdown",
   "metadata": {},
   "source": [
    "# Evaluating performance on the test dataset"
   ]
  },
  {
   "cell_type": "code",
   "execution_count": 18,
   "metadata": {
    "scrolled": false
   },
   "outputs": [
    {
     "name": "stdout",
     "output_type": "stream",
     "text": [
      "705/705 [==============================] - 11s 15ms/step - loss: 0.4089 - accuracy: 0.8830\n",
      "Test loss: 0.4088931977748871 / Test accuracy: 0.8829787373542786\n"
     ]
    }
   ],
   "source": [
    "test_loss, test_acc = model_v7_6.evaluate(x_validate, ys_validate)\n",
    "print(f'Test loss: {test_loss} / Test accuracy: {test_acc}')"
   ]
  },
  {
   "cell_type": "code",
   "execution_count": 19,
   "metadata": {},
   "outputs": [
    {
     "data": {
      "image/png": "[encoded data removed]",
      "text/plain": [
       "<Figure size 432x288 with 1 Axes>"
      ]
     },
     "metadata": {
      "needs_background": "light"
     },
     "output_type": "display_data"
    },
    {
     "data": {
      "image/png": "[encoded data removed]",
      "text/plain": [
       "<Figure size 432x288 with 1 Axes>"
      ]
     },
     "metadata": {
      "needs_background": "light"
     },
     "output_type": "display_data"
    }
   ],
   "source": [
    "# Plot history of Loss to visualize the training process\n",
    "plt.plot(history.history['loss'], label='Training data')\n",
    "plt.plot(history.history['val_loss'], label='Validation data')\n",
    "plt.title('Loss over time')\n",
    "plt.ylabel('Loss value')\n",
    "plt.xlabel('Epoch')\n",
    "plt.legend(loc=\"upper right\")\n",
    "plt.show()\n",
    "\n",
    "# Plot history: Accuracy\n",
    "plt.plot(history.history['accuracy'], label='Training data')\n",
    "plt.plot(history.history['val_accuracy'], label='Validation data')\n",
    "plt.title('Accuracy over time')\n",
    "plt.ylabel('%')\n",
    "plt.xlabel('Epoch')\n",
    "plt.legend(loc=\"lower right\")\n",
    "plt.show()"
   ]
  },
  {
   "cell_type": "markdown",
   "metadata": {},
   "source": [
    "# Save Trained Model to h5 file"
   ]
  },
  {
   "cell_type": "code",
   "execution_count": 20,
   "metadata": {
    "scrolled": true
   },
   "outputs": [
    {
     "name": "stdout",
     "output_type": "stream",
     "text": [
      "saved\n"
     ]
    }
   ],
   "source": [
    "#Save Model to file for later use in Web application\n",
    "h5modelOutputFilePath = 'emnist_keras_trained_model_v7.6.4.2.h5'\n",
    "model_v7_6.save(h5modelOutputFilePath)\n",
    "print('saved')"
   ]
  },
  {
   "cell_type": "markdown",
   "metadata": {},
   "source": [
    "# Test out models predictions yourself"
   ]
  },
  {
   "cell_type": "code",
   "execution_count": 267,
   "metadata": {
    "scrolled": true
   },
   "outputs": [
    {
     "name": "stdout",
     "output_type": "stream",
     "text": [
      "[[6.2268269e-01 3.6763086e-07 6.5630928e-05 ... 1.1629659e-06\n",
      "  4.2235681e-07 2.1573931e-05]\n",
      " [5.0522136e-05 3.1907729e-07 7.8176657e-07 ... 4.0707619e-06\n",
      "  1.5240134e-04 8.4169875e-07]\n",
      " [2.2318288e-06 2.7644218e-08 2.0507724e-07 ... 2.2459291e-08\n",
      "  3.8014446e-07 5.4091779e-06]\n",
      " ...\n",
      " [2.0889537e-09 5.5592393e-09 1.7915639e-06 ... 3.9836019e-09\n",
      "  4.4858601e-09 4.1017048e-10]\n",
      " [4.4777952e-08 9.4787644e-09 2.5841132e-06 ... 2.5211255e-09\n",
      "  8.9460761e-10 1.5580450e-09]\n",
      " [7.1565216e-09 3.4434288e-06 1.4686366e-07 ... 1.2090673e-08\n",
      "  1.4939587e-08 1.8606809e-06]]\n"
     ]
    },
    {
     "data": {
      "image/png": "[encoded data removed]",
      "text/plain": [
       "<Figure size 432x288 with 1 Axes>"
      ]
     },
     "metadata": {
      "needs_background": "light"
     },
     "output_type": "display_data"
    }
   ],
   "source": [
    "# Test a Random image from the test dataset\n",
    "img_num_to_test = np.random.randint(0, high=len(x_test)-1)\n",
    "\n",
    "predictions = model_v7_6.predict([x_test])\n",
    "plt.title(\"Prediction: \" + char_mapping[np.argmax(predictions[img_num_to_test])])\n",
    "plt.imshow(x_test[img_num_to_test], cmap=\"Greys_r\")\n",
    "plt.show()"
   ]
  },
  {
   "cell_type": "code",
   "execution_count": null,
   "metadata": {
    "scrolled": true
   },
   "outputs": [],
   "source": []
  }
 ],
 "metadata": {
  "kernelspec": {
   "display_name": "Python 3",
   "language": "python",
   "name": "python3"
  },
  "language_info": {
   "codemirror_mode": {
    "name": "ipython",
    "version": 3
   },
   "file_extension": ".py",
   "mimetype": "text/x-python",
   "name": "python",
   "nbconvert_exporter": "python",
   "pygments_lexer": "ipython3",
   "version": "3.8.5"
  }
 },
 "nbformat": 4,
 "nbformat_minor": 4
}
